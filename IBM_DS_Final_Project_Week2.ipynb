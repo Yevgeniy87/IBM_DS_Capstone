{
 "cells": [
  {
   "cell_type": "markdown",
   "metadata": {},
   "source": [
    "# Applied Data Science Capstone\n",
    "## Car Accident Severity\n",
    "### Made by: Yevgeniy Dobrynin\n",
    "### Rev: 1.0\n",
    "### Date: 13-Oct-20"
   ]
  },
  {
   "cell_type": "markdown",
   "metadata": {},
   "source": [
    "### Introduction"
   ]
  },
  {
   "cell_type": "markdown",
   "metadata": {},
   "source": [
    "###### Statistically the most dangerous transport is car. Approximately 1.35 million people die each year as a result of road traffic crashes. Between 20 and 50 million more people suffer non-fatal injuries, with many incurring a disability as a result of their injury. Seattle city has an intensive traffic and as the result frequent collision accidents with fatalities and heavy injuries. From 2004 to 2020 it was recorded 78,596 injuries and 328 fatalities as the result of road accidents in Seattle city. Analysis of such data could reveal dangerous areas and other factors leading to high probability of accidents to occur.\n",
    "###### Stakeholders who may benefit from the analysis are: drivers, insurance companies, hospitals and police.\n"
   ]
  },
  {
   "cell_type": "markdown",
   "metadata": {},
   "source": [
    "### 1. Load and reviw data"
   ]
  },
  {
   "cell_type": "code",
   "execution_count": 1,
   "metadata": {},
   "outputs": [
    {
     "name": "stdout",
     "output_type": "stream",
     "text": [
      "Dataset downloaded and read into a pandas dataframe!\n"
     ]
    }
   ],
   "source": [
    "import numpy as np  # useful for many scientific computing in Python\n",
    "import pandas as pd # primary data structure library\n",
    "import os\n",
    "from sklearn.preprocessing import OrdinalEncoder\n",
    "## Load the project dataset\n",
    "df_CAS = pd.read_csv('C:\\Dell\\Collisions.csv')\n",
    "print('Dataset downloaded and read into a pandas dataframe!')"
   ]
  },
  {
   "cell_type": "code",
   "execution_count": 2,
   "metadata": {},
   "outputs": [
    {
     "name": "stdout",
     "output_type": "stream",
     "text": [
      "<class 'pandas.core.frame.DataFrame'>\n",
      "RangeIndex: 221738 entries, 0 to 221737\n",
      "Data columns (total 40 columns):\n",
      " #   Column           Non-Null Count   Dtype  \n",
      "---  ------           --------------   -----  \n",
      " 0   X                214260 non-null  float64\n",
      " 1   Y                214260 non-null  float64\n",
      " 2   OBJECTID         221738 non-null  int64  \n",
      " 3   INCKEY           221738 non-null  int64  \n",
      " 4   COLDETKEY        221738 non-null  int64  \n",
      " 5   REPORTNO         221738 non-null  object \n",
      " 6   STATUS           221738 non-null  object \n",
      " 7   ADDRTYPE         218024 non-null  object \n",
      " 8   INTKEY           72027 non-null   float64\n",
      " 9   LOCATION         217145 non-null  object \n",
      " 10  EXCEPTRSNCODE    101335 non-null  object \n",
      " 11  EXCEPTRSNDESC    11785 non-null   object \n",
      " 12  SEVERITYCODE     221737 non-null  object \n",
      " 13  SEVERITYDESC     221738 non-null  object \n",
      " 14  COLLISIONTYPE    195287 non-null  object \n",
      " 15  PERSONCOUNT      221738 non-null  int64  \n",
      " 16  PEDCOUNT         221738 non-null  int64  \n",
      " 17  PEDCYLCOUNT      221738 non-null  int64  \n",
      " 18  VEHCOUNT         221738 non-null  int64  \n",
      " 19  INJURIES         221738 non-null  int64  \n",
      " 20  SERIOUSINJURIES  221738 non-null  int64  \n",
      " 21  FATALITIES       221738 non-null  int64  \n",
      " 22  INCDATE          221738 non-null  object \n",
      " 23  INCDTTM          221738 non-null  object \n",
      " 24  JUNCTIONTYPE     209759 non-null  object \n",
      " 25  SDOT_COLCODE     221737 non-null  float64\n",
      " 26  SDOT_COLDESC     221737 non-null  object \n",
      " 27  INATTENTIONIND   30188 non-null   object \n",
      " 28  UNDERINFL        195307 non-null  object \n",
      " 29  WEATHER          195097 non-null  object \n",
      " 30  ROADCOND         195178 non-null  object \n",
      " 31  LIGHTCOND        195008 non-null  object \n",
      " 32  PEDROWNOTGRNT    5195 non-null    object \n",
      " 33  SDOTCOLNUM       127205 non-null  float64\n",
      " 34  SPEEDING         9936 non-null    object \n",
      " 35  ST_COLCODE       212325 non-null  object \n",
      " 36  ST_COLDESC       195287 non-null  object \n",
      " 37  SEGLANEKEY       221738 non-null  int64  \n",
      " 38  CROSSWALKKEY     221738 non-null  int64  \n",
      " 39  HITPARKEDCAR     221738 non-null  object \n",
      "dtypes: float64(5), int64(12), object(23)\n",
      "memory usage: 67.7+ MB\n"
     ]
    }
   ],
   "source": [
    "# Get info for df\n",
    "df_CAS.info()"
   ]
  },
  {
   "cell_type": "code",
   "execution_count": 3,
   "metadata": {},
   "outputs": [
    {
     "data": {
      "text/html": [
       "<div>\n",
       "<style scoped>\n",
       "    .dataframe tbody tr th:only-of-type {\n",
       "        vertical-align: middle;\n",
       "    }\n",
       "\n",
       "    .dataframe tbody tr th {\n",
       "        vertical-align: top;\n",
       "    }\n",
       "\n",
       "    .dataframe thead th {\n",
       "        text-align: right;\n",
       "    }\n",
       "</style>\n",
       "<table border=\"1\" class=\"dataframe\">\n",
       "  <thead>\n",
       "    <tr style=\"text-align: right;\">\n",
       "      <th></th>\n",
       "      <th>X</th>\n",
       "      <th>Y</th>\n",
       "      <th>OBJECTID</th>\n",
       "      <th>INCKEY</th>\n",
       "      <th>COLDETKEY</th>\n",
       "      <th>REPORTNO</th>\n",
       "      <th>STATUS</th>\n",
       "      <th>ADDRTYPE</th>\n",
       "      <th>INTKEY</th>\n",
       "      <th>LOCATION</th>\n",
       "      <th>EXCEPTRSNCODE</th>\n",
       "      <th>EXCEPTRSNDESC</th>\n",
       "      <th>SEVERITYCODE</th>\n",
       "      <th>SEVERITYDESC</th>\n",
       "      <th>COLLISIONTYPE</th>\n",
       "      <th>PERSONCOUNT</th>\n",
       "      <th>PEDCOUNT</th>\n",
       "      <th>PEDCYLCOUNT</th>\n",
       "      <th>VEHCOUNT</th>\n",
       "      <th>INJURIES</th>\n",
       "      <th>SERIOUSINJURIES</th>\n",
       "      <th>FATALITIES</th>\n",
       "      <th>INCDATE</th>\n",
       "      <th>INCDTTM</th>\n",
       "      <th>JUNCTIONTYPE</th>\n",
       "      <th>SDOT_COLCODE</th>\n",
       "      <th>SDOT_COLDESC</th>\n",
       "      <th>INATTENTIONIND</th>\n",
       "      <th>UNDERINFL</th>\n",
       "      <th>WEATHER</th>\n",
       "      <th>ROADCOND</th>\n",
       "      <th>LIGHTCOND</th>\n",
       "      <th>PEDROWNOTGRNT</th>\n",
       "      <th>SDOTCOLNUM</th>\n",
       "      <th>SPEEDING</th>\n",
       "      <th>ST_COLCODE</th>\n",
       "      <th>ST_COLDESC</th>\n",
       "      <th>SEGLANEKEY</th>\n",
       "      <th>CROSSWALKKEY</th>\n",
       "      <th>HITPARKEDCAR</th>\n",
       "    </tr>\n",
       "  </thead>\n",
       "  <tbody>\n",
       "    <tr>\n",
       "      <th>0</th>\n",
       "      <td>-122.356511</td>\n",
       "      <td>47.517361</td>\n",
       "      <td>1</td>\n",
       "      <td>327920</td>\n",
       "      <td>329420</td>\n",
       "      <td>3856094</td>\n",
       "      <td>Matched</td>\n",
       "      <td>Intersection</td>\n",
       "      <td>34911.0</td>\n",
       "      <td>17TH AVE SW AND SW ROXBURY ST</td>\n",
       "      <td></td>\n",
       "      <td>NaN</td>\n",
       "      <td>1</td>\n",
       "      <td>Property Damage Only Collision</td>\n",
       "      <td>Angles</td>\n",
       "      <td>2</td>\n",
       "      <td>0</td>\n",
       "      <td>0</td>\n",
       "      <td>2</td>\n",
       "      <td>0</td>\n",
       "      <td>0</td>\n",
       "      <td>0</td>\n",
       "      <td>2020/01/19 00:00:00+00</td>\n",
       "      <td>1/19/2020 9:01:00 AM</td>\n",
       "      <td>At Intersection (intersection related)</td>\n",
       "      <td>11.0</td>\n",
       "      <td>MOTOR VEHICLE STRUCK MOTOR VEHICLE, FRONT END ...</td>\n",
       "      <td>NaN</td>\n",
       "      <td>N</td>\n",
       "      <td>Clear</td>\n",
       "      <td>Dry</td>\n",
       "      <td>Daylight</td>\n",
       "      <td>NaN</td>\n",
       "      <td>NaN</td>\n",
       "      <td>NaN</td>\n",
       "      <td>10</td>\n",
       "      <td>Entering at angle</td>\n",
       "      <td>0</td>\n",
       "      <td>0</td>\n",
       "      <td>N</td>\n",
       "    </tr>\n",
       "    <tr>\n",
       "      <th>1</th>\n",
       "      <td>-122.361405</td>\n",
       "      <td>47.702064</td>\n",
       "      <td>2</td>\n",
       "      <td>46200</td>\n",
       "      <td>46200</td>\n",
       "      <td>1791736</td>\n",
       "      <td>Matched</td>\n",
       "      <td>Block</td>\n",
       "      <td>NaN</td>\n",
       "      <td>HOLMAN RD NW BETWEEN 4TH AVE NW AND 3RD AVE NW</td>\n",
       "      <td>NaN</td>\n",
       "      <td>NaN</td>\n",
       "      <td>1</td>\n",
       "      <td>Property Damage Only Collision</td>\n",
       "      <td>Rear Ended</td>\n",
       "      <td>2</td>\n",
       "      <td>0</td>\n",
       "      <td>0</td>\n",
       "      <td>2</td>\n",
       "      <td>0</td>\n",
       "      <td>0</td>\n",
       "      <td>0</td>\n",
       "      <td>2005/04/11 00:00:00+00</td>\n",
       "      <td>4/11/2005 6:31:00 PM</td>\n",
       "      <td>Mid-Block (not related to intersection)</td>\n",
       "      <td>14.0</td>\n",
       "      <td>MOTOR VEHICLE STRUCK MOTOR VEHICLE, REAR END</td>\n",
       "      <td>Y</td>\n",
       "      <td>0</td>\n",
       "      <td>Raining</td>\n",
       "      <td>Wet</td>\n",
       "      <td>Dusk</td>\n",
       "      <td>NaN</td>\n",
       "      <td>5101020.0</td>\n",
       "      <td>NaN</td>\n",
       "      <td>13</td>\n",
       "      <td>From same direction - both going straight - bo...</td>\n",
       "      <td>0</td>\n",
       "      <td>0</td>\n",
       "      <td>N</td>\n",
       "    </tr>\n",
       "    <tr>\n",
       "      <th>2</th>\n",
       "      <td>-122.317414</td>\n",
       "      <td>47.664028</td>\n",
       "      <td>3</td>\n",
       "      <td>1212</td>\n",
       "      <td>1212</td>\n",
       "      <td>3507861</td>\n",
       "      <td>Matched</td>\n",
       "      <td>Block</td>\n",
       "      <td>NaN</td>\n",
       "      <td>ROOSEVELT WAY NE BETWEEN NE 47TH ST AND NE 50T...</td>\n",
       "      <td></td>\n",
       "      <td>NaN</td>\n",
       "      <td>2</td>\n",
       "      <td>Injury Collision</td>\n",
       "      <td>Head On</td>\n",
       "      <td>2</td>\n",
       "      <td>0</td>\n",
       "      <td>0</td>\n",
       "      <td>2</td>\n",
       "      <td>1</td>\n",
       "      <td>0</td>\n",
       "      <td>0</td>\n",
       "      <td>2013/03/31 00:00:00+00</td>\n",
       "      <td>3/31/2013 2:09:00 AM</td>\n",
       "      <td>Mid-Block (not related to intersection)</td>\n",
       "      <td>11.0</td>\n",
       "      <td>MOTOR VEHICLE STRUCK MOTOR VEHICLE, FRONT END ...</td>\n",
       "      <td>NaN</td>\n",
       "      <td>N</td>\n",
       "      <td>Clear</td>\n",
       "      <td>Dry</td>\n",
       "      <td>Dark - Street Lights On</td>\n",
       "      <td>NaN</td>\n",
       "      <td>NaN</td>\n",
       "      <td>NaN</td>\n",
       "      <td>30</td>\n",
       "      <td>From opposite direction - all others</td>\n",
       "      <td>0</td>\n",
       "      <td>0</td>\n",
       "      <td>N</td>\n",
       "    </tr>\n",
       "    <tr>\n",
       "      <th>3</th>\n",
       "      <td>-122.318234</td>\n",
       "      <td>47.619927</td>\n",
       "      <td>4</td>\n",
       "      <td>327909</td>\n",
       "      <td>329409</td>\n",
       "      <td>EA03026</td>\n",
       "      <td>Matched</td>\n",
       "      <td>Intersection</td>\n",
       "      <td>29054.0</td>\n",
       "      <td>11TH AVE E AND E JOHN ST</td>\n",
       "      <td></td>\n",
       "      <td>NaN</td>\n",
       "      <td>2</td>\n",
       "      <td>Injury Collision</td>\n",
       "      <td>Pedestrian</td>\n",
       "      <td>3</td>\n",
       "      <td>1</td>\n",
       "      <td>0</td>\n",
       "      <td>1</td>\n",
       "      <td>1</td>\n",
       "      <td>0</td>\n",
       "      <td>0</td>\n",
       "      <td>2020/01/06 00:00:00+00</td>\n",
       "      <td>1/6/2020 5:55:00 PM</td>\n",
       "      <td>At Intersection (intersection related)</td>\n",
       "      <td>24.0</td>\n",
       "      <td>MOTOR VEHCILE STRUCK PEDESTRIAN</td>\n",
       "      <td>NaN</td>\n",
       "      <td>N</td>\n",
       "      <td>Raining</td>\n",
       "      <td>Wet</td>\n",
       "      <td>Dark - Street Lights On</td>\n",
       "      <td>NaN</td>\n",
       "      <td>NaN</td>\n",
       "      <td>NaN</td>\n",
       "      <td>0</td>\n",
       "      <td>Vehicle going straight hits pedestrian</td>\n",
       "      <td>0</td>\n",
       "      <td>0</td>\n",
       "      <td>N</td>\n",
       "    </tr>\n",
       "    <tr>\n",
       "      <th>4</th>\n",
       "      <td>-122.351724</td>\n",
       "      <td>47.560306</td>\n",
       "      <td>5</td>\n",
       "      <td>104900</td>\n",
       "      <td>104900</td>\n",
       "      <td>2671936</td>\n",
       "      <td>Matched</td>\n",
       "      <td>Block</td>\n",
       "      <td>NaN</td>\n",
       "      <td>WEST MARGINAL WAY SW BETWEEN SW ALASKA ST AND ...</td>\n",
       "      <td>NaN</td>\n",
       "      <td>NaN</td>\n",
       "      <td>2</td>\n",
       "      <td>Injury Collision</td>\n",
       "      <td>Other</td>\n",
       "      <td>2</td>\n",
       "      <td>0</td>\n",
       "      <td>0</td>\n",
       "      <td>1</td>\n",
       "      <td>1</td>\n",
       "      <td>0</td>\n",
       "      <td>0</td>\n",
       "      <td>2009/12/25 00:00:00+00</td>\n",
       "      <td>12/25/2009 7:00:00 PM</td>\n",
       "      <td>Mid-Block (not related to intersection)</td>\n",
       "      <td>28.0</td>\n",
       "      <td>MOTOR VEHICLE RAN OFF ROAD - HIT FIXED OBJECT</td>\n",
       "      <td>NaN</td>\n",
       "      <td>0</td>\n",
       "      <td>Clear</td>\n",
       "      <td>Ice</td>\n",
       "      <td>Dark - Street Lights On</td>\n",
       "      <td>NaN</td>\n",
       "      <td>9359012.0</td>\n",
       "      <td>Y</td>\n",
       "      <td>50</td>\n",
       "      <td>Fixed object</td>\n",
       "      <td>0</td>\n",
       "      <td>0</td>\n",
       "      <td>N</td>\n",
       "    </tr>\n",
       "    <tr>\n",
       "      <th>5</th>\n",
       "      <td>-122.333067</td>\n",
       "      <td>47.544302</td>\n",
       "      <td>6</td>\n",
       "      <td>322205</td>\n",
       "      <td>323705</td>\n",
       "      <td>3694789</td>\n",
       "      <td>Matched</td>\n",
       "      <td>Block</td>\n",
       "      <td>NaN</td>\n",
       "      <td>1ST AV S NB OFF RP BETWEEN 1ST AV S BR NB AND ...</td>\n",
       "      <td></td>\n",
       "      <td>NaN</td>\n",
       "      <td>1</td>\n",
       "      <td>Property Damage Only Collision</td>\n",
       "      <td>Rear Ended</td>\n",
       "      <td>2</td>\n",
       "      <td>0</td>\n",
       "      <td>0</td>\n",
       "      <td>2</td>\n",
       "      <td>0</td>\n",
       "      <td>0</td>\n",
       "      <td>0</td>\n",
       "      <td>2019/08/08 00:00:00+00</td>\n",
       "      <td>8/8/2019 12:49:00 PM</td>\n",
       "      <td>Mid-Block (not related to intersection)</td>\n",
       "      <td>14.0</td>\n",
       "      <td>MOTOR VEHICLE STRUCK MOTOR VEHICLE, REAR END</td>\n",
       "      <td>NaN</td>\n",
       "      <td>N</td>\n",
       "      <td>Clear</td>\n",
       "      <td>Dry</td>\n",
       "      <td>Daylight</td>\n",
       "      <td>NaN</td>\n",
       "      <td>NaN</td>\n",
       "      <td>NaN</td>\n",
       "      <td>14</td>\n",
       "      <td>From same direction - both going straight - on...</td>\n",
       "      <td>0</td>\n",
       "      <td>0</td>\n",
       "      <td>N</td>\n",
       "    </tr>\n",
       "    <tr>\n",
       "      <th>6</th>\n",
       "      <td>-122.338543</td>\n",
       "      <td>47.616874</td>\n",
       "      <td>7</td>\n",
       "      <td>322275</td>\n",
       "      <td>323775</td>\n",
       "      <td>E949282</td>\n",
       "      <td>Matched</td>\n",
       "      <td>Block</td>\n",
       "      <td>NaN</td>\n",
       "      <td>8TH AVE BETWEEN WESTLAKE AVE AND BLANCHARD ST</td>\n",
       "      <td></td>\n",
       "      <td>NaN</td>\n",
       "      <td>1</td>\n",
       "      <td>Property Damage Only Collision</td>\n",
       "      <td>Cycles</td>\n",
       "      <td>3</td>\n",
       "      <td>0</td>\n",
       "      <td>1</td>\n",
       "      <td>1</td>\n",
       "      <td>0</td>\n",
       "      <td>0</td>\n",
       "      <td>0</td>\n",
       "      <td>2019/08/08 00:00:00+00</td>\n",
       "      <td>8/8/2019 8:57:00 AM</td>\n",
       "      <td>Mid-Block (not related to intersection)</td>\n",
       "      <td>18.0</td>\n",
       "      <td>MOTOR VEHICLE STRUCK PEDALCYCLIST, FRONT END A...</td>\n",
       "      <td>Y</td>\n",
       "      <td>N</td>\n",
       "      <td>Overcast</td>\n",
       "      <td>Dry</td>\n",
       "      <td>Daylight</td>\n",
       "      <td>NaN</td>\n",
       "      <td>NaN</td>\n",
       "      <td>NaN</td>\n",
       "      <td>5</td>\n",
       "      <td>Vehicle Strikes Pedalcyclist</td>\n",
       "      <td>0</td>\n",
       "      <td>0</td>\n",
       "      <td>N</td>\n",
       "    </tr>\n",
       "    <tr>\n",
       "      <th>7</th>\n",
       "      <td>NaN</td>\n",
       "      <td>NaN</td>\n",
       "      <td>8</td>\n",
       "      <td>5721</td>\n",
       "      <td>5721</td>\n",
       "      <td>1786583</td>\n",
       "      <td>Unmatched</td>\n",
       "      <td>NaN</td>\n",
       "      <td>NaN</td>\n",
       "      <td>NaN</td>\n",
       "      <td>NEI</td>\n",
       "      <td>Not Enough Information, or Insufficient Locati...</td>\n",
       "      <td>1</td>\n",
       "      <td>Property Damage Only Collision</td>\n",
       "      <td>Parked Car</td>\n",
       "      <td>0</td>\n",
       "      <td>0</td>\n",
       "      <td>0</td>\n",
       "      <td>2</td>\n",
       "      <td>0</td>\n",
       "      <td>0</td>\n",
       "      <td>0</td>\n",
       "      <td>2007/08/27 00:00:00+00</td>\n",
       "      <td>8/27/2007</td>\n",
       "      <td>Mid-Block (not related to intersection)</td>\n",
       "      <td>13.0</td>\n",
       "      <td>MOTOR VEHICLE STRUCK MOTOR VEHICLE, LEFT SIDE ...</td>\n",
       "      <td>NaN</td>\n",
       "      <td>0</td>\n",
       "      <td>Clear</td>\n",
       "      <td>Dry</td>\n",
       "      <td>Daylight</td>\n",
       "      <td>NaN</td>\n",
       "      <td>3239035.0</td>\n",
       "      <td>NaN</td>\n",
       "      <td>32</td>\n",
       "      <td>One parked--one moving</td>\n",
       "      <td>0</td>\n",
       "      <td>0</td>\n",
       "      <td>N</td>\n",
       "    </tr>\n",
       "    <tr>\n",
       "      <th>8</th>\n",
       "      <td>-122.360959</td>\n",
       "      <td>47.571594</td>\n",
       "      <td>9</td>\n",
       "      <td>33400</td>\n",
       "      <td>33400</td>\n",
       "      <td>1076890</td>\n",
       "      <td>Matched</td>\n",
       "      <td>Block</td>\n",
       "      <td>NaN</td>\n",
       "      <td>WEST SEATTLE BR WB BETWEEN W SEATTLE BR WB OFF...</td>\n",
       "      <td>NaN</td>\n",
       "      <td>NaN</td>\n",
       "      <td>2b</td>\n",
       "      <td>Serious Injury Collision</td>\n",
       "      <td>Rear Ended</td>\n",
       "      <td>3</td>\n",
       "      <td>0</td>\n",
       "      <td>0</td>\n",
       "      <td>3</td>\n",
       "      <td>3</td>\n",
       "      <td>1</td>\n",
       "      <td>0</td>\n",
       "      <td>2005/07/06 00:00:00+00</td>\n",
       "      <td>7/6/2005</td>\n",
       "      <td>Mid-Block (not related to intersection)</td>\n",
       "      <td>14.0</td>\n",
       "      <td>MOTOR VEHICLE STRUCK MOTOR VEHICLE, REAR END</td>\n",
       "      <td>Y</td>\n",
       "      <td>0</td>\n",
       "      <td>Clear</td>\n",
       "      <td>Dry</td>\n",
       "      <td>Daylight</td>\n",
       "      <td>NaN</td>\n",
       "      <td>5187041.0</td>\n",
       "      <td>NaN</td>\n",
       "      <td>13</td>\n",
       "      <td>From same direction - both going straight - bo...</td>\n",
       "      <td>0</td>\n",
       "      <td>0</td>\n",
       "      <td>N</td>\n",
       "    </tr>\n",
       "    <tr>\n",
       "      <th>9</th>\n",
       "      <td>-122.336856</td>\n",
       "      <td>47.655652</td>\n",
       "      <td>10</td>\n",
       "      <td>20400</td>\n",
       "      <td>20400</td>\n",
       "      <td>1220377</td>\n",
       "      <td>Matched</td>\n",
       "      <td>Block</td>\n",
       "      <td>NaN</td>\n",
       "      <td>N 40TH ST BETWEEN DENSMORE AVE N AND WALLINGFO...</td>\n",
       "      <td>NaN</td>\n",
       "      <td>NaN</td>\n",
       "      <td>1</td>\n",
       "      <td>Property Damage Only Collision</td>\n",
       "      <td>Rear Ended</td>\n",
       "      <td>2</td>\n",
       "      <td>0</td>\n",
       "      <td>0</td>\n",
       "      <td>2</td>\n",
       "      <td>0</td>\n",
       "      <td>0</td>\n",
       "      <td>0</td>\n",
       "      <td>2004/08/03 00:00:00+00</td>\n",
       "      <td>8/3/2004</td>\n",
       "      <td>Mid-Block (but intersection related)</td>\n",
       "      <td>14.0</td>\n",
       "      <td>MOTOR VEHICLE STRUCK MOTOR VEHICLE, REAR END</td>\n",
       "      <td>Y</td>\n",
       "      <td>0</td>\n",
       "      <td>Clear</td>\n",
       "      <td>Wet</td>\n",
       "      <td>Dusk</td>\n",
       "      <td>NaN</td>\n",
       "      <td>4216016.0</td>\n",
       "      <td>NaN</td>\n",
       "      <td>14</td>\n",
       "      <td>From same direction - both going straight - on...</td>\n",
       "      <td>0</td>\n",
       "      <td>0</td>\n",
       "      <td>N</td>\n",
       "    </tr>\n",
       "  </tbody>\n",
       "</table>\n",
       "</div>"
      ],
      "text/plain": [
       "            X          Y  OBJECTID  INCKEY  COLDETKEY REPORTNO     STATUS  \\\n",
       "0 -122.356511  47.517361         1  327920     329420  3856094    Matched   \n",
       "1 -122.361405  47.702064         2   46200      46200  1791736    Matched   \n",
       "2 -122.317414  47.664028         3    1212       1212  3507861    Matched   \n",
       "3 -122.318234  47.619927         4  327909     329409  EA03026    Matched   \n",
       "4 -122.351724  47.560306         5  104900     104900  2671936    Matched   \n",
       "5 -122.333067  47.544302         6  322205     323705  3694789    Matched   \n",
       "6 -122.338543  47.616874         7  322275     323775  E949282    Matched   \n",
       "7         NaN        NaN         8    5721       5721  1786583  Unmatched   \n",
       "8 -122.360959  47.571594         9   33400      33400  1076890    Matched   \n",
       "9 -122.336856  47.655652        10   20400      20400  1220377    Matched   \n",
       "\n",
       "       ADDRTYPE   INTKEY                                           LOCATION  \\\n",
       "0  Intersection  34911.0                      17TH AVE SW AND SW ROXBURY ST   \n",
       "1         Block      NaN     HOLMAN RD NW BETWEEN 4TH AVE NW AND 3RD AVE NW   \n",
       "2         Block      NaN  ROOSEVELT WAY NE BETWEEN NE 47TH ST AND NE 50T...   \n",
       "3  Intersection  29054.0                           11TH AVE E AND E JOHN ST   \n",
       "4         Block      NaN  WEST MARGINAL WAY SW BETWEEN SW ALASKA ST AND ...   \n",
       "5         Block      NaN  1ST AV S NB OFF RP BETWEEN 1ST AV S BR NB AND ...   \n",
       "6         Block      NaN      8TH AVE BETWEEN WESTLAKE AVE AND BLANCHARD ST   \n",
       "7           NaN      NaN                                                NaN   \n",
       "8         Block      NaN  WEST SEATTLE BR WB BETWEEN W SEATTLE BR WB OFF...   \n",
       "9         Block      NaN  N 40TH ST BETWEEN DENSMORE AVE N AND WALLINGFO...   \n",
       "\n",
       "  EXCEPTRSNCODE                                      EXCEPTRSNDESC  \\\n",
       "0                                                              NaN   \n",
       "1           NaN                                                NaN   \n",
       "2                                                              NaN   \n",
       "3                                                              NaN   \n",
       "4           NaN                                                NaN   \n",
       "5                                                              NaN   \n",
       "6                                                              NaN   \n",
       "7           NEI  Not Enough Information, or Insufficient Locati...   \n",
       "8           NaN                                                NaN   \n",
       "9           NaN                                                NaN   \n",
       "\n",
       "  SEVERITYCODE                    SEVERITYDESC COLLISIONTYPE  PERSONCOUNT  \\\n",
       "0            1  Property Damage Only Collision        Angles            2   \n",
       "1            1  Property Damage Only Collision    Rear Ended            2   \n",
       "2            2                Injury Collision       Head On            2   \n",
       "3            2                Injury Collision    Pedestrian            3   \n",
       "4            2                Injury Collision         Other            2   \n",
       "5            1  Property Damage Only Collision    Rear Ended            2   \n",
       "6            1  Property Damage Only Collision        Cycles            3   \n",
       "7            1  Property Damage Only Collision    Parked Car            0   \n",
       "8           2b        Serious Injury Collision    Rear Ended            3   \n",
       "9            1  Property Damage Only Collision    Rear Ended            2   \n",
       "\n",
       "   PEDCOUNT  PEDCYLCOUNT  VEHCOUNT  INJURIES  SERIOUSINJURIES  FATALITIES  \\\n",
       "0         0            0         2         0                0           0   \n",
       "1         0            0         2         0                0           0   \n",
       "2         0            0         2         1                0           0   \n",
       "3         1            0         1         1                0           0   \n",
       "4         0            0         1         1                0           0   \n",
       "5         0            0         2         0                0           0   \n",
       "6         0            1         1         0                0           0   \n",
       "7         0            0         2         0                0           0   \n",
       "8         0            0         3         3                1           0   \n",
       "9         0            0         2         0                0           0   \n",
       "\n",
       "                  INCDATE                INCDTTM  \\\n",
       "0  2020/01/19 00:00:00+00   1/19/2020 9:01:00 AM   \n",
       "1  2005/04/11 00:00:00+00   4/11/2005 6:31:00 PM   \n",
       "2  2013/03/31 00:00:00+00   3/31/2013 2:09:00 AM   \n",
       "3  2020/01/06 00:00:00+00    1/6/2020 5:55:00 PM   \n",
       "4  2009/12/25 00:00:00+00  12/25/2009 7:00:00 PM   \n",
       "5  2019/08/08 00:00:00+00   8/8/2019 12:49:00 PM   \n",
       "6  2019/08/08 00:00:00+00    8/8/2019 8:57:00 AM   \n",
       "7  2007/08/27 00:00:00+00              8/27/2007   \n",
       "8  2005/07/06 00:00:00+00               7/6/2005   \n",
       "9  2004/08/03 00:00:00+00               8/3/2004   \n",
       "\n",
       "                              JUNCTIONTYPE  SDOT_COLCODE  \\\n",
       "0   At Intersection (intersection related)          11.0   \n",
       "1  Mid-Block (not related to intersection)          14.0   \n",
       "2  Mid-Block (not related to intersection)          11.0   \n",
       "3   At Intersection (intersection related)          24.0   \n",
       "4  Mid-Block (not related to intersection)          28.0   \n",
       "5  Mid-Block (not related to intersection)          14.0   \n",
       "6  Mid-Block (not related to intersection)          18.0   \n",
       "7  Mid-Block (not related to intersection)          13.0   \n",
       "8  Mid-Block (not related to intersection)          14.0   \n",
       "9     Mid-Block (but intersection related)          14.0   \n",
       "\n",
       "                                        SDOT_COLDESC INATTENTIONIND UNDERINFL  \\\n",
       "0  MOTOR VEHICLE STRUCK MOTOR VEHICLE, FRONT END ...            NaN         N   \n",
       "1       MOTOR VEHICLE STRUCK MOTOR VEHICLE, REAR END              Y         0   \n",
       "2  MOTOR VEHICLE STRUCK MOTOR VEHICLE, FRONT END ...            NaN         N   \n",
       "3                    MOTOR VEHCILE STRUCK PEDESTRIAN            NaN         N   \n",
       "4      MOTOR VEHICLE RAN OFF ROAD - HIT FIXED OBJECT            NaN         0   \n",
       "5       MOTOR VEHICLE STRUCK MOTOR VEHICLE, REAR END            NaN         N   \n",
       "6  MOTOR VEHICLE STRUCK PEDALCYCLIST, FRONT END A...              Y         N   \n",
       "7  MOTOR VEHICLE STRUCK MOTOR VEHICLE, LEFT SIDE ...            NaN         0   \n",
       "8       MOTOR VEHICLE STRUCK MOTOR VEHICLE, REAR END              Y         0   \n",
       "9       MOTOR VEHICLE STRUCK MOTOR VEHICLE, REAR END              Y         0   \n",
       "\n",
       "    WEATHER ROADCOND                LIGHTCOND PEDROWNOTGRNT  SDOTCOLNUM  \\\n",
       "0     Clear      Dry                 Daylight           NaN         NaN   \n",
       "1   Raining      Wet                     Dusk           NaN   5101020.0   \n",
       "2     Clear      Dry  Dark - Street Lights On           NaN         NaN   \n",
       "3   Raining      Wet  Dark - Street Lights On           NaN         NaN   \n",
       "4     Clear      Ice  Dark - Street Lights On           NaN   9359012.0   \n",
       "5     Clear      Dry                 Daylight           NaN         NaN   \n",
       "6  Overcast      Dry                 Daylight           NaN         NaN   \n",
       "7     Clear      Dry                 Daylight           NaN   3239035.0   \n",
       "8     Clear      Dry                 Daylight           NaN   5187041.0   \n",
       "9     Clear      Wet                     Dusk           NaN   4216016.0   \n",
       "\n",
       "  SPEEDING ST_COLCODE                                         ST_COLDESC  \\\n",
       "0      NaN         10                                  Entering at angle   \n",
       "1      NaN         13  From same direction - both going straight - bo...   \n",
       "2      NaN         30               From opposite direction - all others   \n",
       "3      NaN          0             Vehicle going straight hits pedestrian   \n",
       "4        Y         50                                       Fixed object   \n",
       "5      NaN         14  From same direction - both going straight - on...   \n",
       "6      NaN          5                       Vehicle Strikes Pedalcyclist   \n",
       "7      NaN         32                             One parked--one moving   \n",
       "8      NaN         13  From same direction - both going straight - bo...   \n",
       "9      NaN         14  From same direction - both going straight - on...   \n",
       "\n",
       "   SEGLANEKEY  CROSSWALKKEY HITPARKEDCAR  \n",
       "0           0             0            N  \n",
       "1           0             0            N  \n",
       "2           0             0            N  \n",
       "3           0             0            N  \n",
       "4           0             0            N  \n",
       "5           0             0            N  \n",
       "6           0             0            N  \n",
       "7           0             0            N  \n",
       "8           0             0            N  \n",
       "9           0             0            N  "
      ]
     },
     "execution_count": 3,
     "metadata": {},
     "output_type": "execute_result"
    }
   ],
   "source": [
    "#Display all values for 10 rows\n",
    "pd.set_option('display.max_columns', None)\n",
    "df_CAS.head(10)"
   ]
  },
  {
   "cell_type": "code",
   "execution_count": 4,
   "metadata": {},
   "outputs": [
    {
     "data": {
      "text/plain": [
       "X                   24983\n",
       "Y                   24983\n",
       "OBJECTID           221738\n",
       "INCKEY             221738\n",
       "COLDETKEY          221738\n",
       "REPORTNO           221735\n",
       "STATUS                  2\n",
       "ADDRTYPE                3\n",
       "INTKEY               7917\n",
       "LOCATION            25209\n",
       "EXCEPTRSNCODE           2\n",
       "EXCEPTRSNDESC           1\n",
       "SEVERITYCODE            5\n",
       "SEVERITYDESC            5\n",
       "COLLISIONTYPE          10\n",
       "PERSONCOUNT            48\n",
       "PEDCOUNT                7\n",
       "PEDCYLCOUNT             3\n",
       "VEHCOUNT               16\n",
       "INJURIES               16\n",
       "SERIOUSINJURIES         7\n",
       "FATALITIES              6\n",
       "INCDATE              6109\n",
       "INCDTTM            169669\n",
       "JUNCTIONTYPE            7\n",
       "SDOT_COLCODE           40\n",
       "SDOT_COLDESC           40\n",
       "INATTENTIONIND          1\n",
       "UNDERINFL               4\n",
       "WEATHER                12\n",
       "ROADCOND                9\n",
       "LIGHTCOND               9\n",
       "PEDROWNOTGRNT           1\n",
       "SDOTCOLNUM         127186\n",
       "SPEEDING                1\n",
       "ST_COLCODE             63\n",
       "ST_COLDESC             62\n",
       "SEGLANEKEY           2118\n",
       "CROSSWALKKEY         2343\n",
       "HITPARKEDCAR            2\n",
       "dtype: int64"
      ]
     },
     "execution_count": 4,
     "metadata": {},
     "output_type": "execute_result"
    }
   ],
   "source": [
    "#Check number of unique values\n",
    "df_CAS.nunique()"
   ]
  },
  {
   "cell_type": "markdown",
   "metadata": {},
   "source": [
    "###### The information was provided by Seattle Police Department from 2004 to 2020 containing 221,737 records. Database was obtained from the following link:\n",
    "https://data-seattlecitygis.opendata.arcgis.com/datasets/collisions \n",
    "Dataset contains 39 columns of accident records.\n"
   ]
  },
  {
   "cell_type": "code",
   "execution_count": 5,
   "metadata": {},
   "outputs": [
    {
     "name": "stdout",
     "output_type": "stream",
     "text": [
      "X                    7478\n",
      "Y                    7478\n",
      "OBJECTID                0\n",
      "INCKEY                  0\n",
      "COLDETKEY               0\n",
      "REPORTNO                0\n",
      "STATUS                  0\n",
      "ADDRTYPE             3714\n",
      "INTKEY             149711\n",
      "LOCATION             4593\n",
      "EXCEPTRSNCODE      120403\n",
      "EXCEPTRSNDESC      209953\n",
      "SEVERITYCODE            1\n",
      "SEVERITYDESC            0\n",
      "COLLISIONTYPE       26451\n",
      "PERSONCOUNT             0\n",
      "PEDCOUNT                0\n",
      "PEDCYLCOUNT             0\n",
      "VEHCOUNT                0\n",
      "INJURIES                0\n",
      "SERIOUSINJURIES         0\n",
      "FATALITIES              0\n",
      "INCDATE                 0\n",
      "INCDTTM                 0\n",
      "JUNCTIONTYPE        11979\n",
      "SDOT_COLCODE            1\n",
      "SDOT_COLDESC            1\n",
      "INATTENTIONIND     191550\n",
      "UNDERINFL           26431\n",
      "WEATHER             26641\n",
      "ROADCOND            26560\n",
      "LIGHTCOND           26730\n",
      "PEDROWNOTGRNT      216543\n",
      "SDOTCOLNUM          94533\n",
      "SPEEDING           211802\n",
      "ST_COLCODE           9413\n",
      "ST_COLDESC          26451\n",
      "SEGLANEKEY              0\n",
      "CROSSWALKKEY            0\n",
      "HITPARKEDCAR            0\n",
      "dtype: int64\n"
     ]
    }
   ],
   "source": [
    "#Check where are NaNs in the dataframe\n",
    "print(df_CAS.isnull().sum(axis=0))"
   ]
  },
  {
   "cell_type": "markdown",
   "metadata": {},
   "source": [
    "### 2. Data Cleaning and Preparation"
   ]
  },
  {
   "cell_type": "markdown",
   "metadata": {},
   "source": [
    "###### Dataset in their original form is not suitable for analysis, thus the following preprocess were applied:\n",
    "1.\tDrop columns that is not going to be used in analysis. 26 columns were dropped in total including unnecessary and redundant columns.\n",
    "2.\tData incompleteness. Around 15% of the data were missing one or more key features required for analysis. As the result of data cleaning and preprocessing such data were dropped from the dataset including NaN and Unknown values.\n",
    "3.\tConvert categorical data to numerical. In order to apply Machine Learning models it requires to convert all categorical data to numeric. As an example, “ROADCOND” column contains strings that can’t be directly processed by Machine Learning Engines. Picture below demonstrates conversion from categorical to numerical string.\n",
    "4.\tThe same transformation were also applied to “SEVERITYCODE”, “WEATHER”, “LIGHTCOND” and “SPEEDING”\n"
   ]
  },
  {
   "cell_type": "markdown",
   "metadata": {},
   "source": [
    "#### 2.1 Remove data columns that will not be used for analysis"
   ]
  },
  {
   "cell_type": "code",
   "execution_count": 6,
   "metadata": {},
   "outputs": [
    {
     "name": "stdout",
     "output_type": "stream",
     "text": [
      "<class 'pandas.core.frame.DataFrame'>\n",
      "RangeIndex: 221738 entries, 0 to 221737\n",
      "Data columns (total 14 columns):\n",
      " #   Column           Non-Null Count   Dtype  \n",
      "---  ------           --------------   -----  \n",
      " 0   X                214260 non-null  float64\n",
      " 1   Y                214260 non-null  float64\n",
      " 2   SEVERITYCODE     221737 non-null  object \n",
      " 3   SEVERITYDESC     221738 non-null  object \n",
      " 4   PERSONCOUNT      221738 non-null  int64  \n",
      " 5   PEDCOUNT         221738 non-null  int64  \n",
      " 6   PEDCYLCOUNT      221738 non-null  int64  \n",
      " 7   INJURIES         221738 non-null  int64  \n",
      " 8   SERIOUSINJURIES  221738 non-null  int64  \n",
      " 9   FATALITIES       221738 non-null  int64  \n",
      " 10  WEATHER          195097 non-null  object \n",
      " 11  ROADCOND         195178 non-null  object \n",
      " 12  LIGHTCOND        195008 non-null  object \n",
      " 13  SPEEDING         9936 non-null    object \n",
      "dtypes: float64(2), int64(6), object(6)\n",
      "memory usage: 23.7+ MB\n"
     ]
    }
   ],
   "source": [
    "if 'OBJECTID' in df_CAS:\n",
    "    del df_CAS[\"OBJECTID\"]\n",
    "if 'INCKEY' in df_CAS:\n",
    "    del df_CAS[\"INCKEY\"]\n",
    "if 'COLDETKEY' in df_CAS:\n",
    "    del df_CAS[\"COLDETKEY\"]\n",
    "if 'REPORTNO' in df_CAS:\n",
    "    del df_CAS[\"REPORTNO\"]\n",
    "if 'STATUS' in df_CAS:\n",
    "    del df_CAS[\"STATUS\"]\n",
    "if 'ADDRTYPE' in df_CAS:\n",
    "    del df_CAS[\"ADDRTYPE\"]\n",
    "if 'INTKEY' in df_CAS:\n",
    "    del df_CAS[\"INTKEY\"]    \n",
    "if 'LOCATION' in df_CAS:\n",
    "    del df_CAS[\"LOCATION\"]\n",
    "if 'EXCEPTRSNCODE' in df_CAS:\n",
    "    del df_CAS[\"EXCEPTRSNCODE\"]\n",
    "if 'EXCEPTRSNDESC' in df_CAS:\n",
    "    del df_CAS[\"EXCEPTRSNDESC\"]\n",
    "if 'COLLISIONTYPE' in df_CAS:\n",
    "    del df_CAS[\"COLLISIONTYPE\"]\n",
    "if 'VEHCOUNT' in df_CAS:\n",
    "    del df_CAS[\"VEHCOUNT\"]\n",
    "if 'INCDATE' in df_CAS:\n",
    "    del df_CAS[\"INCDATE\"]\n",
    "if 'INCDTTM' in df_CAS:\n",
    "    del df_CAS[\"INCDTTM\"]\n",
    "if 'JUNCTIONTYPE' in df_CAS:\n",
    "    del df_CAS[\"JUNCTIONTYPE\"]\n",
    "if 'SDOT_COLCODE' in df_CAS:\n",
    "    del df_CAS[\"SDOT_COLCODE\"]\n",
    "if 'SDOT_COLDESC' in df_CAS:\n",
    "    del df_CAS[\"SDOT_COLDESC\"]\n",
    "if 'INATTENTIONIND' in df_CAS:\n",
    "    del df_CAS[\"INATTENTIONIND\"]\n",
    "if 'UNDERINFL' in df_CAS:\n",
    "    del df_CAS[\"UNDERINFL\"]\n",
    "if 'PEDROWNOTGRNT' in df_CAS:\n",
    "    del df_CAS[\"PEDROWNOTGRNT\"]\n",
    "if 'SDOTCOLNUM' in df_CAS:\n",
    "    del df_CAS[\"SDOTCOLNUM\"]\n",
    "if 'ST_COLCODE' in df_CAS:\n",
    "    del df_CAS[\"ST_COLCODE\"]\n",
    "if 'ST_COLDESC' in df_CAS:\n",
    "    del df_CAS[\"ST_COLDESC\"]\n",
    "if 'SEGLANEKEY' in df_CAS:\n",
    "    del df_CAS[\"SEGLANEKEY\"]\n",
    "if 'CROSSWALKKEY' in df_CAS:\n",
    "    del df_CAS[\"CROSSWALKKEY\"]\n",
    "if 'HITPARKEDCAR' in df_CAS:\n",
    "    del df_CAS[\"HITPARKEDCAR\"]\n",
    "df_CAS.info()"
   ]
  },
  {
   "cell_type": "markdown",
   "metadata": {},
   "source": [
    "#### 2.2 Drop missing values for SPEEDING and convert to binary"
   ]
  },
  {
   "cell_type": "code",
   "execution_count": 7,
   "metadata": {},
   "outputs": [
    {
     "data": {
      "text/plain": [
       "0    211802\n",
       "1      9936\n",
       "Name: SPEEDING, dtype: int64"
      ]
     },
     "execution_count": 7,
     "metadata": {},
     "output_type": "execute_result"
    }
   ],
   "source": [
    "df_CAS[\"SPEEDING\"].replace(np.nan, 0, inplace=True)\n",
    "df_CAS[\"SPEEDING\"].replace(\"Y\", 1, inplace=True)\n",
    "df_PLT = df_CAS['SPEEDING'].replace([1,0],['Yes','No'])\n",
    "df_CAS[\"SPEEDING\"].value_counts()"
   ]
  },
  {
   "cell_type": "markdown",
   "metadata": {},
   "source": [
    "#### 2.3 Check where are NaNs in the dataframe"
   ]
  },
  {
   "cell_type": "code",
   "execution_count": 8,
   "metadata": {},
   "outputs": [
    {
     "name": "stdout",
     "output_type": "stream",
     "text": [
      "X                   7478\n",
      "Y                   7478\n",
      "SEVERITYCODE           1\n",
      "SEVERITYDESC           0\n",
      "PERSONCOUNT            0\n",
      "PEDCOUNT               0\n",
      "PEDCYLCOUNT            0\n",
      "INJURIES               0\n",
      "SERIOUSINJURIES        0\n",
      "FATALITIES             0\n",
      "WEATHER            26641\n",
      "ROADCOND           26560\n",
      "LIGHTCOND          26730\n",
      "SPEEDING               0\n",
      "dtype: int64\n"
     ]
    }
   ],
   "source": [
    "print(df_CAS.isnull().sum(axis=0))"
   ]
  },
  {
   "cell_type": "markdown",
   "metadata": {},
   "source": [
    "#### 2.4 Drop colunms with empty and NaN values"
   ]
  },
  {
   "cell_type": "code",
   "execution_count": 9,
   "metadata": {},
   "outputs": [
    {
     "name": "stdout",
     "output_type": "stream",
     "text": [
      "X                  0\n",
      "Y                  0\n",
      "SEVERITYCODE       0\n",
      "SEVERITYDESC       0\n",
      "PERSONCOUNT        0\n",
      "PEDCOUNT           0\n",
      "PEDCYLCOUNT        0\n",
      "INJURIES           0\n",
      "SERIOUSINJURIES    0\n",
      "FATALITIES         0\n",
      "WEATHER            0\n",
      "ROADCOND           0\n",
      "LIGHTCOND          0\n",
      "SPEEDING           0\n",
      "dtype: int64\n"
     ]
    }
   ],
   "source": [
    "df_CAS.replace('', np.nan, inplace=True)\n",
    "df_CAS.dropna(inplace=True)\n",
    "print(df_CAS.isnull().sum(axis=0))"
   ]
  },
  {
   "cell_type": "markdown",
   "metadata": {},
   "source": [
    "#### 2.5 Remove rows with missing information about the target variable"
   ]
  },
  {
   "cell_type": "code",
   "execution_count": 10,
   "metadata": {},
   "outputs": [
    {
     "name": "stdout",
     "output_type": "stream",
     "text": [
      "\n",
      " Drop SEVERITYDESC 2 rows.\n",
      "\n",
      " Drop WEATHER 13886 rows.\n",
      "\n",
      " Drop ROADCOND 1388 rows.\n",
      "\n",
      " Drop LIGHTCOND 2293 rows.\n",
      "Done!\n"
     ]
    }
   ],
   "source": [
    "#Identify and remove rows with SEVERITYDESC = \"Unknown\"\n",
    "todrop = df_CAS[\"SEVERITYDESC\"] == 'Unknown'\n",
    "print(\"\\n Drop SEVERITYDESC \"+str(todrop.values.sum())+\" rows.\")\n",
    "df_CAS.drop(df_CAS.index[todrop], inplace=True)\n",
    "#Drop missing WEATHER\n",
    "todrop1 = df_CAS[\"WEATHER\"] == 'Unknown'\n",
    "print(\"\\n Drop WEATHER \"+str(todrop1.values.sum())+\" rows.\")\n",
    "df_CAS.drop(df_CAS.index[todrop1], inplace=True)\n",
    "#Drop missing ROADCOND\n",
    "todrop2 = df_CAS[\"ROADCOND\"] == 'Unknown'\n",
    "print(\"\\n Drop ROADCOND \"+str(todrop2.values.sum())+\" rows.\")\n",
    "df_CAS.drop(df_CAS.index[todrop2], inplace=True)\n",
    "#Drop missing LIGHTCOND\n",
    "todrop3 = df_CAS[\"LIGHTCOND\"] == 'Unknown'\n",
    "print(\"\\n Drop LIGHTCOND \"+str(todrop3.values.sum())+\" rows.\")\n",
    "df_CAS.drop(df_CAS.index[todrop3], inplace=True)\n",
    "\n",
    "print(\"Done!\")\n",
    "\n",
    "#Re-index dataframe to account for missing rows\n",
    "df_CAS.reset_index(inplace=True)"
   ]
  },
  {
   "cell_type": "markdown",
   "metadata": {},
   "source": [
    "#### 2.6 Convert the Cotegorical Data to Numerical"
   ]
  },
  {
   "cell_type": "markdown",
   "metadata": {},
   "source": [
    "##### Define ordinal encoding for SEVERITYCODE"
   ]
  },
  {
   "cell_type": "code",
   "execution_count": 11,
   "metadata": {},
   "outputs": [
    {
     "data": {
      "text/plain": [
       "0    113156\n",
       "1     55584\n",
       "2      2945\n",
       "3       328\n",
       "Name: SEVERITYCODE_num, dtype: int64"
      ]
     },
     "execution_count": 11,
     "metadata": {},
     "output_type": "execute_result"
    }
   ],
   "source": [
    "# define ordinal encoding\n",
    "encoder = OrdinalEncoder()\n",
    "df_CAS['SEVERITYCODE_num'] = df_CAS['SEVERITYCODE']\n",
    "df_CAS[[\"SEVERITYCODE_num\"]] = encoder.fit_transform(df_CAS[[\"SEVERITYCODE\"]])\n",
    "df_CAS[\"SEVERITYCODE_num\"] = df_CAS[\"SEVERITYCODE_num\"].astype(float).astype(int)\n",
    "df_CAS[\"SEVERITYCODE_num\"].value_counts()"
   ]
  },
  {
   "cell_type": "markdown",
   "metadata": {},
   "source": [
    "##### Define ordinal encoding for WEATHER"
   ]
  },
  {
   "cell_type": "code",
   "execution_count": 12,
   "metadata": {},
   "outputs": [
    {
     "data": {
      "text/plain": [
       "Clear                       110446\n",
       "Raining                      32496\n",
       "Overcast                     27249\n",
       "Snowing                        831\n",
       "Fog/Smog/Smoke                 547\n",
       "Other                          253\n",
       "Sleet/Hail/Freezing Rain       113\n",
       "Blowing Sand/Dirt               43\n",
       "Severe Crosswind                25\n",
       "Partly Cloudy                   10\n",
       "Name: WEATHER, dtype: int64"
      ]
     },
     "execution_count": 12,
     "metadata": {},
     "output_type": "execute_result"
    }
   ],
   "source": [
    "df_CAS[\"WEATHER\"].value_counts()"
   ]
  },
  {
   "cell_type": "code",
   "execution_count": 13,
   "metadata": {},
   "outputs": [
    {
     "data": {
      "text/plain": [
       "1    110446\n",
       "6     32496\n",
       "4     27249\n",
       "9       831\n",
       "2       547\n",
       "3       253\n",
       "8       113\n",
       "0        43\n",
       "7        25\n",
       "5        10\n",
       "Name: WEATHER_num, dtype: int64"
      ]
     },
     "execution_count": 13,
     "metadata": {},
     "output_type": "execute_result"
    }
   ],
   "source": [
    "df_CAS['WEATHER_num'] = df_CAS['WEATHER']\n",
    "df_CAS[[\"WEATHER_num\"]] = encoder.fit_transform(df_CAS[[\"WEATHER\"]])\n",
    "df_CAS[\"WEATHER_num\"] = df_CAS[\"WEATHER_num\"].astype(float).astype(int)\n",
    "df_CAS[\"WEATHER_num\"].value_counts()"
   ]
  },
  {
   "cell_type": "markdown",
   "metadata": {},
   "source": [
    "##### Define ordinal encoding for LIGHTCOND"
   ]
  },
  {
   "cell_type": "code",
   "execution_count": 14,
   "metadata": {},
   "outputs": [
    {
     "data": {
      "text/plain": [
       "Daylight                    113867\n",
       "Dark - Street Lights On      47289\n",
       "Dusk                          5722\n",
       "Dawn                          2450\n",
       "Dark - No Street Lights       1382\n",
       "Dark - Street Lights Off      1114\n",
       "Other                          167\n",
       "Dark - Unknown Lighting         22\n",
       "Name: LIGHTCOND, dtype: int64"
      ]
     },
     "execution_count": 14,
     "metadata": {},
     "output_type": "execute_result"
    }
   ],
   "source": [
    "df_CAS[\"LIGHTCOND\"].value_counts()"
   ]
  },
  {
   "cell_type": "code",
   "execution_count": 15,
   "metadata": {},
   "outputs": [
    {
     "data": {
      "text/plain": [
       "5    113867\n",
       "2     47289\n",
       "6      5722\n",
       "4      2450\n",
       "0      1382\n",
       "1      1114\n",
       "7       167\n",
       "3        22\n",
       "Name: LIGHTCOND_num, dtype: int64"
      ]
     },
     "execution_count": 15,
     "metadata": {},
     "output_type": "execute_result"
    }
   ],
   "source": [
    "df_CAS['LIGHTCOND_num'] = df_CAS['LIGHTCOND']\n",
    "df_CAS[[\"LIGHTCOND_num\"]] = encoder.fit_transform(df_CAS[[\"LIGHTCOND\"]])\n",
    "df_CAS[\"LIGHTCOND_num\"] = df_CAS[\"LIGHTCOND_num\"].astype(float).astype(int)\n",
    "df_CAS[\"LIGHTCOND_num\"].value_counts()"
   ]
  },
  {
   "cell_type": "markdown",
   "metadata": {},
   "source": [
    "##### Define ordinal encoding for ROADCOND"
   ]
  },
  {
   "cell_type": "code",
   "execution_count": 16,
   "metadata": {},
   "outputs": [
    {
     "data": {
      "text/plain": [
       "Dry               123439\n",
       "Wet                46329\n",
       "Ice                 1093\n",
       "Snow/Slush           842\n",
       "Other                102\n",
       "Standing Water        99\n",
       "Sand/Mud/Dirt         59\n",
       "Oil                   50\n",
       "Name: ROADCOND, dtype: int64"
      ]
     },
     "execution_count": 16,
     "metadata": {},
     "output_type": "execute_result"
    }
   ],
   "source": [
    "df_CAS[\"ROADCOND\"].value_counts()"
   ]
  },
  {
   "cell_type": "code",
   "execution_count": 17,
   "metadata": {},
   "outputs": [
    {
     "data": {
      "text/plain": [
       "0    123439\n",
       "7     46329\n",
       "1      1093\n",
       "5       842\n",
       "3       102\n",
       "6        99\n",
       "4        59\n",
       "2        50\n",
       "Name: ROADCOND_num, dtype: int64"
      ]
     },
     "execution_count": 17,
     "metadata": {},
     "output_type": "execute_result"
    }
   ],
   "source": [
    "df_CAS['ROADCOND_num'] = df_CAS['ROADCOND']\n",
    "df_CAS[[\"ROADCOND_num\"]] = encoder.fit_transform(df_CAS[[\"ROADCOND\"]])\n",
    "df_CAS[\"ROADCOND_num\"] = df_CAS[\"ROADCOND_num\"].astype(float).astype(int)\n",
    "df_CAS[\"ROADCOND_num\"].value_counts()"
   ]
  },
  {
   "cell_type": "markdown",
   "metadata": {},
   "source": [
    "#### 2.7 Final dataframe"
   ]
  },
  {
   "cell_type": "code",
   "execution_count": 18,
   "metadata": {},
   "outputs": [
    {
     "name": "stdout",
     "output_type": "stream",
     "text": [
      "<class 'pandas.core.frame.DataFrame'>\n",
      "RangeIndex: 172013 entries, 0 to 172012\n",
      "Data columns (total 19 columns):\n",
      " #   Column            Non-Null Count   Dtype  \n",
      "---  ------            --------------   -----  \n",
      " 0   index             172013 non-null  int64  \n",
      " 1   X                 172013 non-null  float64\n",
      " 2   Y                 172013 non-null  float64\n",
      " 3   SEVERITYCODE      172013 non-null  object \n",
      " 4   SEVERITYDESC      172013 non-null  object \n",
      " 5   PERSONCOUNT       172013 non-null  int64  \n",
      " 6   PEDCOUNT          172013 non-null  int64  \n",
      " 7   PEDCYLCOUNT       172013 non-null  int64  \n",
      " 8   INJURIES          172013 non-null  int64  \n",
      " 9   SERIOUSINJURIES   172013 non-null  int64  \n",
      " 10  FATALITIES        172013 non-null  int64  \n",
      " 11  WEATHER           172013 non-null  object \n",
      " 12  ROADCOND          172013 non-null  object \n",
      " 13  LIGHTCOND         172013 non-null  object \n",
      " 14  SPEEDING          172013 non-null  int64  \n",
      " 15  SEVERITYCODE_num  172013 non-null  int32  \n",
      " 16  WEATHER_num       172013 non-null  int32  \n",
      " 17  LIGHTCOND_num     172013 non-null  int32  \n",
      " 18  ROADCOND_num      172013 non-null  int32  \n",
      "dtypes: float64(2), int32(4), int64(8), object(5)\n",
      "memory usage: 22.3+ MB\n"
     ]
    }
   ],
   "source": [
    "df_CAS.info()"
   ]
  },
  {
   "cell_type": "markdown",
   "metadata": {},
   "source": [
    "### 3. Data Visualization"
   ]
  },
  {
   "cell_type": "code",
   "execution_count": 19,
   "metadata": {},
   "outputs": [
    {
     "name": "stdout",
     "output_type": "stream",
     "text": [
      "Matplotlib version:  3.1.3\n"
     ]
    }
   ],
   "source": [
    "# use the inline backend to generate the plots within the browser\n",
    "%matplotlib inline \n",
    "import matplotlib as mpl\n",
    "import matplotlib.pyplot as plt\n",
    "from collections import Counter\n",
    "mpl.style.use('ggplot') # optional: for ggplot-like style\n",
    "\n",
    "# check for latest version of Matplotlib\n",
    "print ('Matplotlib version: ', mpl.__version__) # >= 2.0.0"
   ]
  },
  {
   "cell_type": "markdown",
   "metadata": {},
   "source": [
    "#### 3.1 Visualize quantities of accidents and number of people involved"
   ]
  },
  {
   "cell_type": "code",
   "execution_count": 20,
   "metadata": {},
   "outputs": [
    {
     "data": {
      "image/png": "[encoded data removed]",
      "text/plain": [
       "<Figure size 1152x1152 with 4 Axes>"
      ]
     },
     "metadata": {},
     "output_type": "display_data"
    }
   ],
   "source": [
    "#Create a 2x2 set of bar charts to describe the accident data\n",
    "plt.rcParams[\"figure.figsize\"] = (16,16)\n",
    "#1 - Accident severities\n",
    "plt.subplot(2,2,1)\n",
    "freqs = Counter(df_CAS[\"SEVERITYDESC\"])\n",
    "xvals = range(len(freqs.values()))\n",
    "plt.title(\"Distribution of accident outcomes\")\n",
    "plt.title('Accident Severity')\n",
    "plt.ylabel(\"Number of accidents\")\n",
    "plt.grid(b=None)\n",
    "plt.bar(xvals, freqs.values() , color='steelblue')\n",
    "plt.xticks(xvals, freqs.keys(), rotation='vertical')\n",
    "#plt.yscale('log')\n",
    "\n",
    "#2 - Number of people involved\n",
    "plt.subplot(2,2,2)\n",
    "freqs = Counter(df_CAS[\"PERSONCOUNT\"])\n",
    "xvals = range(len(freqs.values()))\n",
    "plt.title('Number of People Involved')\n",
    "plt.xlabel(\"Number of people involved\")\n",
    "plt.ylabel(\"Number of accidents\")\n",
    "plt.grid(b=None)\n",
    "plt.hist(df_CAS[\"PERSONCOUNT\"], align='left', color='steelblue')\n",
    "#plt.yscale('log')\n",
    "\n",
    "#3 - Number of people involved\n",
    "plt.subplot(2,2,3)\n",
    "freqs = Counter(df_CAS[\"INJURIES\"])\n",
    "xvals = range(len(freqs.values()))\n",
    "plt.title('Injured People')\n",
    "plt.xlabel(\"Number of injuries\")\n",
    "plt.ylabel(\"Number of accidents\")\n",
    "plt.grid(b=None)\n",
    "plt.hist(df_CAS[\"INJURIES\"], align='left', color='steelblue')\n",
    "#plt.yscale('log')\n",
    "\n",
    "#4 - Number of fatalities per accident\n",
    "plt.subplot(2,2,4)\n",
    "freqs = Counter(df_CAS[\"FATALITIES\"])\n",
    "xvals = range(len(freqs.values()))\n",
    "plt.title('Fatalities')\n",
    "plt.xlabel(\"Number of fatalities\")\n",
    "plt.ylabel(\"log(Number of accidents)\")\n",
    "plt.grid(b=None)\n",
    "plt.hist(df_CAS[\"FATALITIES\"], bins=[0,1,2,3,4,5,6], align='left', color='steelblue')\n",
    "plt.yscale('log')\n",
    "\n",
    "plt.subplots_adjust(hspace=0.6)"
   ]
  },
  {
   "cell_type": "markdown",
   "metadata": {},
   "source": [
    "#### 3.2 Visualize parameters that affect accident severity"
   ]
  },
  {
   "cell_type": "code",
   "execution_count": 21,
   "metadata": {},
   "outputs": [
    {
     "data": {
      "image/png": "[encoded data removed]",
      "text/plain": [
       "<Figure size 1152x1152 with 4 Axes>"
      ]
     },
     "metadata": {},
     "output_type": "display_data"
    }
   ],
   "source": [
    "#Create a 2x2 set of bar charts to describe the accident data\n",
    "plt.rcParams[\"figure.figsize\"] = (16,16)\n",
    "#1 - Weather conditions\n",
    "plt.subplot(2,2,1)\n",
    "freqs = Counter(df_CAS[\"WEATHER\"])\n",
    "xvals = range(len(freqs.values()))\n",
    "plt.title('Weater Conditions')\n",
    "plt.ylabel(\"Number of accidents\")\n",
    "plt.grid(b=None)\n",
    "plt.bar(xvals, freqs.values() , color='steelblue')\n",
    "plt.xticks(xvals, freqs.keys(), rotation='vertical')\n",
    "\n",
    "#2 - Road conditions\n",
    "plt.subplot(2,2,2)\n",
    "freqs = Counter(df_CAS[\"ROADCOND\"])\n",
    "xvals = range(len(freqs.values()))\n",
    "plt.title('Road Conditions')\n",
    "plt.ylabel(\"Number of accidents\")\n",
    "plt.grid(b=None)\n",
    "plt.bar(xvals, freqs.values() , color='steelblue')\n",
    "plt.xticks(xvals, freqs.keys(), rotation='vertical')\n",
    "\n",
    "#3 - Light conditions\n",
    "plt.subplot(2,2,3)\n",
    "freqs = Counter(df_CAS[\"LIGHTCOND\"])\n",
    "xvals = range(len(freqs.values()))\n",
    "plt.title('Light Conditions')\n",
    "plt.ylabel(\"Number of accidents\")\n",
    "plt.grid(b=None)\n",
    "plt.bar(xvals, freqs.values() , color='steelblue')\n",
    "plt.xticks(xvals, freqs.keys(), rotation='vertical')\n",
    "\n",
    "#4 - Speeding\n",
    "plt.subplot(2,2,4)\n",
    "freqs = Counter(df_PLT)\n",
    "xvals = range(len(freqs.values()))\n",
    "plt.title('Speeding')\n",
    "plt.ylabel(\"Number of accidents\")\n",
    "plt.grid(b=None)\n",
    "plt.bar(xvals, freqs.values() , color='steelblue')\n",
    "plt.xticks(xvals, freqs.keys(), rotation='vertical')\n",
    "plt.subplots_adjust(hspace=0.6)"
   ]
  },
  {
   "cell_type": "markdown",
   "metadata": {},
   "source": [
    "#### 3.3 Building Correlation Matrix"
   ]
  },
  {
   "cell_type": "markdown",
   "metadata": {},
   "source": [
    "###### Build correlation matrix to discover which columns need to be included for model building"
   ]
  },
  {
   "cell_type": "code",
   "execution_count": 22,
   "metadata": {},
   "outputs": [
    {
     "data": {
      "text/plain": [
       "<matplotlib.axes._subplots.AxesSubplot at 0x14f21088>"
      ]
     },
     "execution_count": 22,
     "metadata": {},
     "output_type": "execute_result"
    },
    {
     "data": {
      "image/png": "[encoded data removed]",
      "text/plain": [
       "<Figure size 1296x1152 with 2 Axes>"
      ]
     },
     "metadata": {},
     "output_type": "display_data"
    }
   ],
   "source": [
    "import seaborn as sns\n",
    "plt.rcParams[\"figure.figsize\"] = (18,16)\n",
    "corr = df_CAS.corr()\n",
    "plt.rc('xtick',labelsize=10)\n",
    "plt.rc('ytick',labelsize=10)\n",
    "sns.heatmap(corr, xticklabels=corr.columns, yticklabels=corr.columns)"
   ]
  },
  {
   "cell_type": "markdown",
   "metadata": {},
   "source": [
    "#### 3.4 Balancing the Data"
   ]
  },
  {
   "cell_type": "markdown",
   "metadata": {},
   "source": [
    "###### Data balancing and standardization. The target variable for this study is SEVERITYCODE which represents severity of accidents contains the following values\n",
    "\n",
    "1: Property damage only\t-   113156\n",
    "2: Minor injury collision\t-    55584\n",
    "2b: Major injury collision\t-    2945\n",
    "3: Fatality collision\t-    328\n",
    "\n",
    "This real-life representation of accidents outcome may bias the model, thus the model has balanced and binarized to the following 2 categories. \n",
    "\n",
    "0 – Minor accidents that will include property damage only\n",
    "1 – Major accidents that will include all type of injuries: minor, major injuries and fatality collisions\n",
    "\n",
    "Binarized and balanced result\n",
    "\n",
    "0 – 58587\n",
    "1 – 58587\n"
   ]
  },
  {
   "cell_type": "code",
   "execution_count": 23,
   "metadata": {},
   "outputs": [
    {
     "name": "stdout",
     "output_type": "stream",
     "text": [
      "(117714, 19)\n"
     ]
    },
    {
     "data": {
      "text/plain": [
       "1    58857\n",
       "0    58857\n",
       "Name: SEVERITYCODE_num, dtype: int64"
      ]
     },
     "execution_count": 23,
     "metadata": {},
     "output_type": "execute_result"
    }
   ],
   "source": [
    "#from imblearn.over_sampling import SMOTE\n",
    "from sklearn.utils import resample\n",
    "\n",
    "df_CAS['SEVERITYCODE_num'] = df_CAS['SEVERITYCODE_num'].replace([2,3],1)\n",
    "#df_CAS['SEVERITYCODE_num'] = df_CAS['SEVERITYCODE_num'].replace([3],2)\n",
    "\n",
    "#Re-sample the dataset\n",
    "shuffled_data = df_CAS.sample(frac=1, random_state=2)\n",
    "\n",
    "#Create separate dataframes for each of the values of SEVERITYCODE\n",
    "code_1 = shuffled_data.loc[shuffled_data[\"SEVERITYCODE_num\"] == 0]\n",
    "#code_2 = shuffled_data.loc[shuffled_data[\"SEVERITYCODE_num\"] == 1]\n",
    "#code_3 = shuffled_data.loc[shuffled_data[\"SEVERITYCODE_num\"] == 2]\n",
    "code_2 = shuffled_data.loc[shuffled_data[\"SEVERITYCODE_num\"] == 1]\n",
    "\n",
    "#Down-sample severity codes 0, 1 to match number of accidents in code 2\n",
    "code_1_resample = shuffled_data.loc[shuffled_data[\"SEVERITYCODE_num\"] == 0].sample(n=len(code_2), random_state=42)\n",
    "#code_2_resample = shuffled_data.loc[shuffled_data[\"SEVERITYCODE_num\"] == 1].sample(n=len(code_4), random_state=42)\n",
    "#code_3_resample = shuffled_data.loc[shuffled_data[\"SEVERITYCODE_num\"] == 2].sample(n=len(code_4), random_state=42)\n",
    "code_2_resample = code_2\n",
    "\n",
    "#Merge the dataframes\n",
    "#resampled_df = pd.concat([code_1_resample, code_2_resample, code_3_resample, code_4_resample])\n",
    "resampled_df = pd.concat([code_1_resample, code_2_resample])\n",
    "#Now find out which of the resampled columns have no variation left in them \n",
    "#(e.g. rare weather conditions which are all \"0\" due to one-hot encoding and \n",
    "#re-sampling)\n",
    "#badcols = resampled_df.columns[resampled_df.nunique() <= 1]\n",
    "\n",
    "#Remove these from DF\n",
    "#for badcol in badcols:\n",
    "#   if badcol in resampled_df:\n",
    "#        del resampled_df[badcol]\n",
    "        \n",
    "print(resampled_df.shape)\n",
    "\n",
    "resampled_df[\"SEVERITYCODE_num\"].value_counts()"
   ]
  },
  {
   "cell_type": "markdown",
   "metadata": {},
   "source": [
    "##### Normalize and Binarize the Data"
   ]
  },
  {
   "cell_type": "code",
   "execution_count": 24,
   "metadata": {},
   "outputs": [
    {
     "data": {
      "text/plain": [
       "1    58857\n",
       "0    58857\n",
       "Name: SEVERITYCODE_num, dtype: int64"
      ]
     },
     "execution_count": 24,
     "metadata": {},
     "output_type": "execute_result"
    }
   ],
   "source": [
    "#Normalize the data\n",
    "from sklearn import preprocessing\n",
    "Feature = resampled_df[['WEATHER_num','LIGHTCOND_num','ROADCOND_num','SPEEDING','PERSONCOUNT','PEDCOUNT',\"PEDCYLCOUNT\"]]\n",
    "X = preprocessing.StandardScaler().fit(Feature).transform(Feature)\n",
    "\n",
    "#Binarise SEVERITY code\n",
    "Y = resampled_df[\"SEVERITYCODE_num\"]\n",
    "resampled_df[\"SEVERITYCODE_num\"].value_counts()"
   ]
  },
  {
   "cell_type": "code",
   "execution_count": null,
   "metadata": {},
   "outputs": [],
   "source": []
  }
 ],
 "metadata": {
  "kernelspec": {
   "display_name": "Python 3",
   "language": "python",
   "name": "python3"
  },
  "language_info": {
   "codemirror_mode": {
    "name": "ipython",
    "version": 3
   },
   "file_extension": ".py",
   "mimetype": "text/x-python",
   "name": "python",
   "nbconvert_exporter": "python",
   "pygments_lexer": "ipython3",
   "version": "3.7.6"
  }
 },
 "nbformat": 4,
 "nbformat_minor": 4
}
